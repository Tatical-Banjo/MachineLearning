{
 "cells": [
  {
   "cell_type": "code",
   "execution_count": 6,
   "metadata": {},
   "outputs": [
    {
     "name": "stdout",
     "output_type": "stream",
     "text": [
      "uint8\n",
      "uint8\n",
      "uint8\n",
      "uint8\n"
     ]
    }
   ],
   "source": [
    "from keras.datasets import mnist\n",
    "import numpy as np\n",
    "import tensorflow as tf\n",
    "\n",
    "(train_X_raw, train_y_raw), (test_X_raw, test_y_raw) = mnist.load_data()\n",
    "\n",
    "print(train_X_raw.dtype)\n",
    "print(train_y_raw.dtype)\n",
    "print(test_X_raw.dtype)\n",
    "print(test_y_raw.dtype)"
   ]
  },
  {
   "cell_type": "code",
   "execution_count": 7,
   "metadata": {},
   "outputs": [
    {
     "data": {
      "text/plain": [
       "(False, False, False, False)"
      ]
     },
     "execution_count": 7,
     "metadata": {},
     "output_type": "execute_result"
    }
   ],
   "source": [
    "# Check for Nan Values in data\n",
    "np.isnan(np.min(train_X_raw)),np.isnan(np.min(train_y_raw)),np.isnan(np.min(test_X_raw)),np.isnan(np.min(test_X_raw))\n"
   ]
  },
  {
   "cell_type": "code",
   "execution_count": 8,
   "metadata": {},
   "outputs": [
    {
     "name": "stdout",
     "output_type": "stream",
     "text": [
      "<dtype: 'float32'>\n",
      "<dtype: 'uint8'>\n",
      "<dtype: 'float32'>\n",
      "<dtype: 'uint8'>\n"
     ]
    }
   ],
   "source": [
    "# Make tensors from np arrays \n",
    "train_X = tf.constant(train_X_raw)\n",
    "train_y = tf.constant(train_y_raw)\n",
    "test_X = tf.constant(test_X_raw)\n",
    "test_y = tf.constant(test_y_raw)\n",
    "\n",
    "# Make the X tensors floats \n",
    "train_X = tf.cast(train_X,tf.float32)\n",
    "test_X = tf.cast(test_X,tf.float32)\n",
    "\n",
    "# reshape the X tensors to linear from square (x , 28, 28) -> (x, 28^2)\n",
    "train_X = tf.reshape(train_X,[60000,784])\n",
    "test_X = tf.reshape(test_X,[10000,784])\n",
    "\n",
    "# One hot encode the y values \n",
    "train_y_onehot = tf.one_hot(train_y,depth=10)\n",
    "test_y_onehot = tf.one_hot(test_y,depth=10)\n",
    "\n",
    "# Check dtypes are sensible\n",
    "print(train_X.dtype)\n",
    "print(train_y.dtype)\n",
    "print(test_X.dtype)\n",
    "print(test_y.dtype)\n",
    "\n",
    "\n"
   ]
  },
  {
   "cell_type": "code",
   "execution_count": 9,
   "metadata": {},
   "outputs": [],
   "source": [
    "\n",
    "# Normalise the data \n",
    "def normalise_tensor(tensor):\n",
    "    tensor = tf.truediv(\n",
    "        tf.subtract(\n",
    "            tensor, \n",
    "            tf.reduce_min(tensor)\n",
    "        ), \n",
    "        tf.subtract(\n",
    "            tf.reduce_max(tensor), \n",
    "            tf.reduce_min(tensor)\n",
    "        )\n",
    "        )\n",
    "    return tensor\n",
    "\n",
    "train_X = normalise_tensor(train_X)\n",
    "train_y = normalise_tensor(train_y)\n",
    "test_X = normalise_tensor(test_X)\n",
    "test_y = normalise_tensor(test_y)"
   ]
  },
  {
   "cell_type": "code",
   "execution_count": 10,
   "metadata": {},
   "outputs": [
    {
     "name": "stdout",
     "output_type": "stream",
     "text": [
      "Epoch 1/15\n"
     ]
    },
    {
     "name": "stderr",
     "output_type": "stream",
     "text": [
      "2022-05-27 10:34:03.707037: I tensorflow/core/grappler/optimizers/custom_graph_optimizer_registry.cc:113] Plugin optimizer for device_type GPU is enabled.\n"
     ]
    },
    {
     "name": "stdout",
     "output_type": "stream",
     "text": [
      "469/469 [==============================] - 3s 6ms/step - loss: 0.0251 - mae: 0.0251\n",
      "Epoch 2/15\n",
      "469/469 [==============================] - 3s 6ms/step - loss: 0.0121 - mae: 0.0121\n",
      "Epoch 3/15\n",
      "469/469 [==============================] - 3s 6ms/step - loss: 0.0102 - mae: 0.0102\n",
      "Epoch 4/15\n",
      "469/469 [==============================] - 3s 6ms/step - loss: 0.0088 - mae: 0.0088\n",
      "Epoch 5/15\n",
      "469/469 [==============================] - 3s 6ms/step - loss: 0.0080 - mae: 0.0080\n",
      "Epoch 6/15\n",
      "469/469 [==============================] - 3s 6ms/step - loss: 0.0077 - mae: 0.0077\n",
      "Epoch 7/15\n",
      "469/469 [==============================] - 3s 6ms/step - loss: 0.0072 - mae: 0.0072\n",
      "Epoch 8/15\n",
      "469/469 [==============================] - 3s 6ms/step - loss: 0.0069 - mae: 0.0069\n",
      "Epoch 9/15\n",
      "469/469 [==============================] - 3s 6ms/step - loss: 0.0068 - mae: 0.0068\n",
      "Epoch 10/15\n",
      "469/469 [==============================] - 3s 6ms/step - loss: 0.0069 - mae: 0.0069\n",
      "Epoch 11/15\n",
      "469/469 [==============================] - 3s 6ms/step - loss: 0.0064 - mae: 0.0064\n",
      "Epoch 12/15\n",
      "469/469 [==============================] - 3s 6ms/step - loss: 0.0063 - mae: 0.0063\n",
      "Epoch 13/15\n",
      "469/469 [==============================] - 3s 6ms/step - loss: 0.0063 - mae: 0.0063\n",
      "Epoch 14/15\n",
      "469/469 [==============================] - 3s 6ms/step - loss: 0.0061 - mae: 0.0061\n",
      "Epoch 15/15\n",
      "469/469 [==============================] - 3s 6ms/step - loss: 0.0057 - mae: 0.0057\n"
     ]
    }
   ],
   "source": [
    "# Build the model \n",
    "# Set random seed\n",
    "tf.random.set_seed(42)\n",
    "\n",
    "# Add an extra layer and increase number of units\n",
    "number_reading_model_1 = tf.keras.Sequential([\n",
    "  tf.keras.layers.Dense(28*28), # 100 units\n",
    "  tf.keras.layers.Dense(128,activation=\"relu\"), \n",
    "  tf.keras.layers.Dense(10,activation=\"softmax\"),\n",
    "  # tf.keras.layers.Dense(10,activation=\"softmax\")\n",
    "])\n",
    "\n",
    "# Compile the model\n",
    "number_reading_model_1.compile(loss=tf.keras.losses.mae,\n",
    "                          optimizer=tf.keras.optimizers.Adam(), # Adam works but SGD doesn't \n",
    "                          metrics=['mae'])\n",
    "\n",
    "    \n",
    "# Fit the model and save the history (we can plot this)\n",
    "batch_size=128\n",
    "history_1 = number_reading_model_1.fit(train_X, train_y_onehot, batch_size=batch_size, epochs=15)"
   ]
  },
  {
   "cell_type": "code",
   "execution_count": 11,
   "metadata": {},
   "outputs": [
    {
     "name": "stdout",
     "output_type": "stream",
     "text": [
      "<class 'keras.callbacks.History'>\n",
      "<class 'dict'>\n",
      "{'loss': [0.025144891813397408, 0.012149265967309475, 0.01018141582608223, 0.008849467150866985, 0.0080160703510046, 0.007662869989871979, 0.00720629608258605, 0.0068984986282885075, 0.006755818147212267, 0.006891520693898201, 0.0063719251193106174, 0.006310080178081989, 0.006335404701530933, 0.0060517387464642525, 0.005676086060702801], 'mae': [0.025144891813397408, 0.012149265967309475, 0.01018141582608223, 0.008849467150866985, 0.0080160703510046, 0.007662869989871979, 0.00720629608258605, 0.0068984986282885075, 0.006755818147212267, 0.006891520693898201, 0.0063719251193106174, 0.006310080178081989, 0.006335404701530933, 0.0060517387464642525, 0.005676086060702801]}\n",
      "{'verbose': 1, 'epochs': 15, 'steps': 469}\n"
     ]
    }
   ],
   "source": [
    "print(type(history_1))\n",
    "print(type(history_1.history))\n",
    "print((history_1.history))\n",
    "# print((history_1['steps']))\n",
    "print((history_1.params))"
   ]
  },
  {
   "cell_type": "code",
   "execution_count": 12,
   "metadata": {},
   "outputs": [
    {
     "name": "stdout",
     "output_type": "stream",
     "text": [
      " 42/313 [===>..........................] - ETA: 1s - loss: 0.0076 - mae: 0.0076"
     ]
    },
    {
     "name": "stderr",
     "output_type": "stream",
     "text": [
      "2022-05-27 10:34:47.295868: I tensorflow/core/grappler/optimizers/custom_graph_optimizer_registry.cc:113] Plugin optimizer for device_type GPU is enabled.\n"
     ]
    },
    {
     "name": "stdout",
     "output_type": "stream",
     "text": [
      "313/313 [==============================] - 2s 5ms/step - loss: 0.0061 - mae: 0.0061\n",
      "Test loss: 0.00613870844244957\n",
      "Test accuracy: 0.00613870844244957\n",
      "[0.00613870844244957, 0.00613870844244957]\n"
     ]
    },
    {
     "data": {
      "image/png": "[encoded data removed]",
      "text/plain": [
       "<Figure size 432x288 with 1 Axes>"
      ]
     },
     "metadata": {
      "needs_background": "light"
     },
     "output_type": "display_data"
    }
   ],
   "source": [
    "import pandas as pd\n",
    "import matplotlib.pyplot as plt\n",
    "\n",
    "score = number_reading_model_1.evaluate(test_X, test_y_onehot)\n",
    "print(\"Test loss:\", score[0])\n",
    "print(\"Test accuracy:\", score[1])\n",
    "pd.DataFrame(history_1.history).plot()\n",
    "plt.ylabel(\"loss\")\n",
    "plt.xlabel(\"epochs\");\n",
    "print(score)"
   ]
  },
  {
   "cell_type": "code",
   "execution_count": 13,
   "metadata": {},
   "outputs": [
    {
     "name": "stderr",
     "output_type": "stream",
     "text": [
      "2022-05-27 10:34:48.936603: I tensorflow/core/grappler/optimizers/custom_graph_optimizer_registry.cc:113] Plugin optimizer for device_type GPU is enabled.\n"
     ]
    },
    {
     "name": "stdout",
     "output_type": "stream",
     "text": [
      "Matched fraction = 0.967\n"
     ]
    }
   ],
   "source": [
    "# Calculate correct fraction\n",
    "\n",
    "from matplotlib import pyplot\n",
    "predictions = number_reading_model_1.predict(test_X)\n",
    "# test_y_onehot\n",
    "n_matched = 0.0\n",
    "n_not_matched = 0.0\n",
    "for i in range(1000):\n",
    "    if(predictions[i].argmax() == tf.math.argmax(test_y_onehot[i,:]).numpy()):\n",
    "        n_matched+=1\n",
    "    else:\n",
    "        n_not_matched+=1\n",
    "        # pyplot.subplot(330 + 1 + i)\n",
    "        # print(i)\n",
    "        # pyplot.imshow(test_X_raw[i], cmap=pyplot.get_cmap('gray'))  \n",
    "        # pyplot.show()\n",
    "        # print(f\"predicted_number={(predictions[i].argmax())}\")\n",
    "        # print(test_y_onehot[i])\n",
    "        \n",
    "print(f\"Matched fraction = {n_matched/(n_matched+n_not_matched)}\")\n"
   ]
  },
  {
   "cell_type": "markdown",
   "metadata": {},
   "source": [
    "Matched fraction = 0.11 with no softmax 1000 check\n",
    "\n",
    "Matched fraction = 0.916 with softmax 1000 check (loss: 0.1001 - mae: 0.1001)\n",
    "\n",
    "Matched fraction = 0.824 with softmax + extra layer 1000 check (0.0400 - mae: 0.0400)\n",
    "\n",
    "Matched fraction = 0.908 with softmax + extra layer + 100 epocs + 1000 check (loss: 0.0213 - mae: 0.0213)\n",
    "\n",
    "Matched fraction =  with softmax + extra layer + 35 epocs + 1000 check ()"
   ]
  }
 ],
 "metadata": {
  "interpreter": {
   "hash": "b0b47401bb038ae334f471c727216eb3d0c8d25d4c9415108e35bd1fabd36c59"
  },
  "kernelspec": {
   "display_name": "Python 3.9.12 ('env_tf')",
   "language": "python",
   "name": "python3"
  },
  "language_info": {
   "codemirror_mode": {
    "name": "ipython",
    "version": 3
   },
   "file_extension": ".py",
   "mimetype": "text/x-python",
   "name": "python",
   "nbconvert_exporter": "python",
   "pygments_lexer": "ipython3",
   "version": "3.9.12"
  },
  "orig_nbformat": 4
 },
 "nbformat": 4,
 "nbformat_minor": 2
}
